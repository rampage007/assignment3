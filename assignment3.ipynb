{
  "nbformat": 4,
  "nbformat_minor": 0,
  "metadata": {
    "colab": {
      "name": "assignment3.ipynb",
      "provenance": [],
      "collapsed_sections": []
    },
    "kernelspec": {
      "name": "python3",
      "display_name": "Python 3"
    }
  },
  "cells": [
    {
      "cell_type": "code",
      "metadata": {
        "id": "v1IHxprEFLJl",
        "colab_type": "code",
        "colab": {}
      },
      "source": [
        "import numpy as np"
      ],
      "execution_count": 0,
      "outputs": []
    },
    {
      "cell_type": "code",
      "metadata": {
        "id": "YvCUfMEB9Eiv",
        "colab_type": "code",
        "outputId": "c050e4ee-0cfd-4480-a2e0-d7b92989157a",
        "colab": {
          "base_uri": "https://localhost:8080/",
          "height": 51
        }
      },
      "source": [
        "#Write a function to compute 5/0 and use try/except to catch the exceptions.\n",
        "try:\n",
        "  a = int(input())\n",
        "  b = 5/a\n",
        "\n",
        "except Exception as e:\n",
        "  print(\"In except block %s\" %e)\n"
      ],
      "execution_count": 2,
      "outputs": [
        {
          "output_type": "stream",
          "text": [
            "0\n",
            "In except block division by zero\n"
          ],
          "name": "stdout"
        }
      ]
    },
    {
      "cell_type": "code",
      "metadata": {
        "id": "_WavrdK291Hy",
        "colab_type": "code",
        "outputId": "602342c3-04b5-4933-8cce-1e4ab7eae745",
        "colab": {
          "base_uri": "https://localhost:8080/",
          "height": 153
        }
      },
      "source": [
        "\"\"\"Implement a Python program to generate all sentences where subject is in [\"Americans\",\n",
        "\"Indians\"] and verb is in [\"Play\", \"watch\"] and the object is in [\"Baseball\",\"cricket\"].\"\"\"\n",
        "\n",
        "class sentences:\n",
        "  def __init__(self,subject,verb,objct):\n",
        "    self.subject = subject\n",
        "    self.verb =  verb\n",
        "    self.objct = objct\n",
        "  \n",
        "  def generate_sentences(self):\n",
        "    for i in self.subject:\n",
        "      for j in self.verb:\n",
        "        for k in self.objct:\n",
        "          print(i+\" \"+j+\" \"+k)\n",
        "\n",
        "subject = [\"Americans\",\"Indians\"]\n",
        "verb = [\"Play\",\"watch\"]\n",
        "objct = [\"Baseball\",\"cricket\"]\n",
        "k = sentences(subject,verb,objct)\n",
        "k.generate_sentences()"
      ],
      "execution_count": 3,
      "outputs": [
        {
          "output_type": "stream",
          "text": [
            "Americans Play Baseball\n",
            "Americans Play cricket\n",
            "Americans watch Baseball\n",
            "Americans watch cricket\n",
            "Indians Play Baseball\n",
            "Indians Play cricket\n",
            "Indians watch Baseball\n",
            "Indians watch cricket\n"
          ],
          "name": "stdout"
        }
      ]
    },
    {
      "cell_type": "code",
      "metadata": {
        "id": "F3vqZbQTCgp9",
        "colab_type": "code",
        "outputId": "7ee01fa8-6c66-4ca3-9ae5-52e4e89f455d",
        "colab": {
          "base_uri": "https://localhost:8080/",
          "height": 153
        }
      },
      "source": [
        "\"\"\"Write a function so that the columns of the output matrix are powers of the input vector.\n",
        "The order of the powers is determined by the increasing boolean argument. Specifically, when\n",
        "increasing is False, the i-th output column is the input vector raised element-wise to the power\n",
        "of N - i - 1.\"\"\"\n",
        "\n",
        "print(\"enter the vector by comma seperation\")\n",
        "k = list(map(int,input().split(',')))\n",
        "N = len(k)\n",
        "array_1D = np.array(k)\n",
        "matrix = np.column_stack([array_1D**(N-i-1) for i in range(N)])\n",
        "print(matrix)"
      ],
      "execution_count": 4,
      "outputs": [
        {
          "output_type": "stream",
          "text": [
            "enter the vector by comma seperation\n",
            "1,2,3,4,5,8\n",
            "[[    1     1     1     1     1     1]\n",
            " [   32    16     8     4     2     1]\n",
            " [  243    81    27     9     3     1]\n",
            " [ 1024   256    64    16     4     1]\n",
            " [ 3125   625   125    25     5     1]\n",
            " [32768  4096   512    64     8     1]]\n"
          ],
          "name": "stdout"
        }
      ]
    },
    {
      "cell_type": "code",
      "metadata": {
        "id": "d2eho5paJy4I",
        "colab_type": "code",
        "colab": {}
      },
      "source": [
        ""
      ],
      "execution_count": 0,
      "outputs": []
    }
  ]
}